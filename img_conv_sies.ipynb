{
 "cells": [
  {
   "cell_type": "markdown",
   "metadata": {},
   "source": [
    "# Generating seismic profile from a picture, convolution\n",
    "[Ryan A. Mardani](https://www.linkedin.com/in/amardani/)"
   ]
  },
  {
   "cell_type": "markdown",
   "metadata": {},
   "source": [
    "In subsurface imaging technology (seismic approach), we mainly try to create a profile (image/cube) from Earth's layers below the survey area to understand structural configuration. In my [previous project](https://github.com/mardani72/Synthetic_Seismogram/blob/master/Synthetic_Seismogram.ipynb), I generated synthetic seismogram (convolution of reflectivity and wavelet) which help us to tie seismic data to well data.\n",
    "In this work, I am trying to exercise convolution again but without well data. I have an image of the outcrop which I took several years ago and I want to convert it to the seismic profile. Every colorful image file can be stored as a 3-dimensional array: the first and second s belong to the coordinate of a pixel(row and column) while the third one related to RGB color code.<br>\n",
    "Converting a colorful image into grayscale, I assume that each column of image data is zero offset reflectivity series stored in that column. I have slightly changed the sharpness and brightness of the picture to have more distinctive reading into the array dataset. Some steps are required to get the job done:<br>\n",
    "\n",
    "1) Reading image of png format into a vraiable<br>\n",
    "2) Image Processing (converting blue color of sky into white)<br>\n",
    "3) Quality Contorl and reading into grayscale format<br>\n",
    "4) Statistical analysis to get rid of abnoraml spiked values<br>\n",
    "5) Inverting image color scale (balck to white and vice versa)<br>\n",
    "6) Sacling into a range of (-1,1), simulating reflectivity series<br>\n",
    "7) Time vector initation and wavelet definition(Ricker)<br>\n",
    "8) Convolving each column of picture array with wavelet<br>\n",
    "9) Adding offset to each column<br> \n",
    "10) Plotting<br>\n",
    "\n",
    "\n",
    "Clearly, all units are the assumption and can not be taken for quantitative analysis."
   ]
  },
  {
   "cell_type": "markdown",
   "metadata": {},
   "source": [
    "### 1) Reading image"
   ]
  },
  {
   "cell_type": "code",
   "execution_count": 1,
   "metadata": {},
   "outputs": [],
   "source": [
    "import numpy as np\n",
    "import cv2"
   ]
  },
  {
   "cell_type": "code",
   "execution_count": 11,
   "metadata": {},
   "outputs": [],
   "source": [
    "img_col = cv2.imread('img_outcrop.png')"
   ]
  },
  {
   "cell_type": "markdown",
   "metadata": {},
   "source": [
    "### 2) Image Processing"
   ]
  },
  {
   "cell_type": "code",
   "execution_count": 13,
   "metadata": {},
   "outputs": [
    {
     "data": {
      "text/plain": [
       "True"
      ]
     },
     "execution_count": 13,
     "metadata": {},
     "output_type": "execute_result"
    }
   ],
   "source": [
    "#converting blue color to white\n",
    "m= img_col\n",
    "h,w,bpp = np.shape(m)\n",
    "for py in range(0,h):\n",
    "    for px in range(0,w):\n",
    "        if(m[py][px][0] >225):  # blue color range in RGB          \n",
    "            m[py][px][0]=255    # white\n",
    "            m[py][px][1]=255\n",
    "            m[py][px][2]=255\n",
    "\n",
    "cv2.imwrite('img_blue_less.png',m)    # writing image to visual quality cotrol"
   ]
  },
  {
   "cell_type": "markdown",
   "metadata": {},
   "source": [
    "#### 3) Quality Contorl and reading into grayscale format"
   ]
  },
  {
   "cell_type": "markdown",
   "metadata": {},
   "source": [
    "After changing the blue color to white, it is better to look at the result to find out if a strong alteration in the picture has happened. In this picture, it seems OK but if we have an image that blue is not as strong as sky color, we should cautiously deal with this step."
   ]
  },
  {
   "cell_type": "code",
   "execution_count": 14,
   "metadata": {},
   "outputs": [],
   "source": [
    "# Reading image as grayscale after quality control\n",
    "img = cv2.imread('img_blue_less.png',0)"
   ]
  },
  {
   "cell_type": "code",
   "execution_count": 15,
   "metadata": {},
   "outputs": [
    {
     "data": {
      "text/plain": [
       "(500, 1000)"
      ]
     },
     "execution_count": 15,
     "metadata": {},
     "output_type": "execute_result"
    }
   ],
   "source": [
    "img.shape"
   ]
  },
  {
   "cell_type": "markdown",
   "metadata": {},
   "source": [
    "#### 4) Statistical analysis"
   ]
  },
  {
   "cell_type": "markdown",
   "metadata": {},
   "source": [
    "As this is a grayscale picture, it must be 2D array. It is better to see some statistics."
   ]
  },
  {
   "cell_type": "code",
   "execution_count": 16,
   "metadata": {},
   "outputs": [
    {
     "name": "stdout",
     "output_type": "stream",
     "text": [
      "Number of dimension is: 2\n",
      "The minimum value is: 0\n",
      "The maximum value is: 255\n",
      "The standard deviation value is: 59.12\n",
      "The mean value is: 180.60\n"
     ]
    }
   ],
   "source": [
    "print('Number of dimension is:',img.ndim)\n",
    "print('The minimum value is:',img.min())\n",
    "print('The maximum value is:',img.max())\n",
    "print(f'The standard deviation value is: {img.std():.2f}')\n",
    "print(f'The mean value is: {img.mean():.2f}')"
   ]
  },
  {
   "cell_type": "markdown",
   "metadata": {},
   "source": [
    "Looking at the std and mean reveals that minimum value is far from center and possibly it is a spike in some data points. Let's look at the coordinate of min values and simply plot.\n"
   ]
  },
  {
   "cell_type": "code",
   "execution_count": 17,
   "metadata": {},
   "outputs": [
    {
     "data": {
      "text/plain": [
       "(184, 818)"
      ]
     },
     "execution_count": 17,
     "metadata": {},
     "output_type": "execute_result"
    }
   ],
   "source": [
    "# Using argmin we may locate the min location \n",
    "spike = np.unravel_index(img.argmin(), img.shape)\n",
    "spike"
   ]
  },
  {
   "cell_type": "markdown",
   "metadata": {},
   "source": [
    "##### Ploting to see spikes"
   ]
  },
  {
   "cell_type": "code",
   "execution_count": 21,
   "metadata": {},
   "outputs": [
    {
     "data": {
      "text/plain": [
       "[<matplotlib.lines.Line2D at 0x810fa08>]"
      ]
     },
     "execution_count": 21,
     "metadata": {},
     "output_type": "execute_result"
    },
    {
     "data": {
      "image/png": "[encoded data removed]",
      "text/plain": [
       "<Figure size 432x288 with 1 Axes>"
      ]
     },
     "metadata": {
      "needs_background": "light"
     },
     "output_type": "display_data"
    }
   ],
   "source": [
    "import matplotlib.pyplot as plt\n",
    "y=np.linspace(0, img.shape[0], img.shape[0])  # vector size for ploting\n",
    "plt.plot(img[:, 818], y)\n",
    "plt.plot(img[:,200], y )"
   ]
  },
  {
   "cell_type": "markdown",
   "metadata": {},
   "source": [
    "The plot showes normal ranges between 50 to 255. Lets remove the spikes but before that we can calculate how many data point we will modeify"
   ]
  },
  {
   "cell_type": "code",
   "execution_count": 22,
   "metadata": {},
   "outputs": [
    {
     "data": {
      "text/plain": [
       "3197"
      ]
     },
     "execution_count": 22,
     "metadata": {},
     "output_type": "execute_result"
    }
   ],
   "source": [
    "too_dark= img < 50 \n",
    "too_dark.sum()"
   ]
  },
  {
   "cell_type": "markdown",
   "metadata": {},
   "source": [
    "Comparing size of image matrix (>500,000), 3000 value aletartion can not make strong difference"
   ]
  },
  {
   "cell_type": "code",
   "execution_count": 23,
   "metadata": {},
   "outputs": [],
   "source": [
    "img[too_dark]=50"
   ]
  },
  {
   "cell_type": "markdown",
   "metadata": {},
   "source": [
    "#### 5) Inverting image color scale"
   ]
  },
  {
   "cell_type": "markdown",
   "metadata": {},
   "source": [
    "we do this becuase we want to be in agreemnet with normal polarization of wavelet. Dark color in picture has smaller values than bright one and we want to change it to be adaptable with colvulution with wavelet."
   ]
  },
  {
   "cell_type": "code",
   "execution_count": 24,
   "metadata": {},
   "outputs": [],
   "source": [
    "img_inv=abs(255-img)"
   ]
  },
  {
   "cell_type": "markdown",
   "metadata": {},
   "source": [
    "#### 6) Sacling into a range of (-1,1)"
   ]
  },
  {
   "cell_type": "markdown",
   "metadata": {},
   "source": [
    "To make it similar to reflectivity series we can normalize data between -1 and 1. Let's use sklearn library to make it easier."
   ]
  },
  {
   "cell_type": "code",
   "execution_count": 26,
   "metadata": {},
   "outputs": [],
   "source": [
    "from sklearn.preprocessing import MinMaxScaler"
   ]
  },
  {
   "cell_type": "code",
   "execution_count": 27,
   "metadata": {},
   "outputs": [],
   "source": [
    "scaler = MinMaxScaler(feature_range=(-1, 1))\n",
    "scaler.fit(img_inv)\n",
    "Z1 = scaler.transform(img_inv)\n",
    "Z = np.where(Z1== -1., 0, Z1 ) # converting blue to zero which in scaling process had taken extreme value -1"
   ]
  },
  {
   "cell_type": "markdown",
   "metadata": {},
   "source": [
    "#### 7) Time vector initation and wavelet definition(Ricker)"
   ]
  },
  {
   "cell_type": "code",
   "execution_count": 28,
   "metadata": {},
   "outputs": [],
   "source": [
    "t = np.arange(0,len(Z))/1000           # divided by 1000 to make smilar to seconds"
   ]
  },
  {
   "cell_type": "markdown",
   "metadata": {},
   "source": [
    "##### Wavelet  "
   ]
  },
  {
   "cell_type": "markdown",
   "metadata": {},
   "source": [
    "You may look as the full explanation of this wavelet [here](https://subsurfwiki.org/wiki/Ricker_wavelet)."
   ]
  },
  {
   "cell_type": "code",
   "execution_count": 29,
   "metadata": {},
   "outputs": [],
   "source": [
    "def ricker(f, length, dt):\n",
    "    t0 = np.arange(-length/2, (length-dt)/2, dt)\n",
    "    y = (1.0 - 2.0*(np.pi**2)*(f**2)*(t0**2)) * np.exp(-(np.pi**2)*(f**2)*(t0**2))\n",
    "    return t0, y"
   ]
  },
  {
   "cell_type": "code",
   "execution_count": 30,
   "metadata": {},
   "outputs": [],
   "source": [
    "f=75            #wavelet frequency\n",
    "length=0.400    #Wavelet vector length\n",
    "dt=t[1]-t[0]           # Sampling prefer to use smiliar to resampled AI"
   ]
  },
  {
   "cell_type": "code",
   "execution_count": 31,
   "metadata": {},
   "outputs": [],
   "source": [
    "t0, w = ricker (f, length, dt) # ricker wavelet "
   ]
  },
  {
   "cell_type": "markdown",
   "metadata": {},
   "source": [
    "#### 8) Convolution over each column (looks like receiver place)"
   ]
  },
  {
   "cell_type": "code",
   "execution_count": 32,
   "metadata": {},
   "outputs": [],
   "source": [
    "syn = np.zeros((Z.shape[0], Z.shape[1]) )\n",
    "for i in range(0, Z.shape[1]):\n",
    "    syn[:, i] = np.convolve(w, Z[: , i], mode='same')"
   ]
  },
  {
   "cell_type": "markdown",
   "metadata": {},
   "source": [
    "Plotting all columns as a synthetic trace, will strongly ocupy RAM memory and slows down the computer speed.  We can plot every 5 column to handle performance. "
   ]
  },
  {
   "cell_type": "code",
   "execution_count": 33,
   "metadata": {},
   "outputs": [],
   "source": [
    "syn1 = syn[:, 0:1000:5]"
   ]
  },
  {
   "cell_type": "markdown",
   "metadata": {},
   "source": [
    "#### 9) Adding offset"
   ]
  },
  {
   "cell_type": "markdown",
   "metadata": {},
   "source": [
    "Up to now, all columns are located at the same location. We need to add some regular value to make offset for ploting."
   ]
  },
  {
   "cell_type": "code",
   "execution_count": 34,
   "metadata": {},
   "outputs": [],
   "source": [
    "offsets = np.linspace(1, 200, 200 )\n",
    "syn_off1 = offsets+syn1"
   ]
  },
  {
   "cell_type": "markdown",
   "metadata": {},
   "source": [
    "### 10) Ploting"
   ]
  },
  {
   "cell_type": "markdown",
   "metadata": {},
   "source": [
    "Plotting 200 traces still takes some struggle from a  PC. To improve the result, I switched off inline showing the result on the screen. We can look at the result as a saved figure file."
   ]
  },
  {
   "cell_type": "code",
   "execution_count": 35,
   "metadata": {},
   "outputs": [],
   "source": [
    "import matplotlib as mpl\n",
    "backend_ =  mpl.get_backend() \n",
    "mpl.use(\"Agg\")  # Prevent showing stuff\n",
    "\n",
    "\n",
    "fig, ax = plt.subplots(figsize = (16,8))\n",
    "\n",
    "for i in range(syn_off1.shape[1]):\n",
    "      \n",
    "    ax.plot(syn_off1,t,'k-', linewidth=0.3)\n",
    "    ax.fill_betweenx(t, offsets[i] , syn_off1[:,i], where= (syn_off1[:,i]> offsets[i]),color='k', alpha=0.9)\n",
    "#     ax.fill_betweenx(t, offsets[i] , syn_off1[:,i], where= (syn_off1[:,i]> offsets[i]),color='b', alpha=0.5)\n",
    "#     ax.fill_betweenx(t, offsets[i] , syn_off1[:,i], where= (syn_off1[:,i]< offsets[i]),color='r', alpha=0.3)\n",
    "    \n",
    "ax.set_title(' Synthetic Seismic Profile from Image Convolution', fontsize = '16')\n",
    "ax.set_xlabel( 'Offset(m)', fontsize = '12')\n",
    "ax.set_ylabel( 'Time(S)', fontsize = '12')\n",
    "ax.invert_yaxis()\n",
    "plt.savefig('Syn_Out_Crop.png', dpi=300)\n",
    "mpl.use(backend_) # Reset backend"
   ]
  },
  {
   "cell_type": "code",
   "execution_count": null,
   "metadata": {},
   "outputs": [],
   "source": []
  }
 ],
 "metadata": {
  "kernelspec": {
   "display_name": "Python 3",
   "language": "python",
   "name": "python3"
  },
  "language_info": {
   "codemirror_mode": {
    "name": "ipython",
    "version": 3
   },
   "file_extension": ".py",
   "mimetype": "text/x-python",
   "name": "python",
   "nbconvert_exporter": "python",
   "pygments_lexer": "ipython3",
   "version": "3.7.6"
  }
 },
 "nbformat": 4,
 "nbformat_minor": 4
}
